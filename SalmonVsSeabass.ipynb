{
 "cells": [
  {
   "cell_type": "markdown",
   "metadata": {},
   "source": [
    "# Salmon vs Seabass\n",
    "\n"
   ]
  },
  {
   "cell_type": "code",
   "execution_count": 1,
   "metadata": {},
   "outputs": [],
   "source": [
    "#Bibliotecas\n",
    "import numpy as np\n",
    "import pandas as pd\n",
    "from sklearn.model_selection import train_test_split\n",
    "from sklearn.preprocessing import StandardScaler\n",
    "from sklearn.metrics import accuracy_score, confusion_matrix, precision_score, recall_score,f1_score\n",
    "import matplotlib.pyplot as plt\n",
    "from Perceptron import Perceptron\n"
   ]
  },
  {
   "cell_type": "markdown",
   "metadata": {},
   "source": [
    "#### Carregamento de dados\n",
    "Salmon = 0 e Seabass = 1"
   ]
  },
  {
   "cell_type": "code",
   "execution_count": 2,
   "metadata": {},
   "outputs": [
    {
     "data": {
      "text/html": [
       "<div>\n",
       "<style scoped>\n",
       "    .dataframe tbody tr th:only-of-type {\n",
       "        vertical-align: middle;\n",
       "    }\n",
       "\n",
       "    .dataframe tbody tr th {\n",
       "        vertical-align: top;\n",
       "    }\n",
       "\n",
       "    .dataframe thead th {\n",
       "        text-align: right;\n",
       "    }\n",
       "</style>\n",
       "<table border=\"1\" class=\"dataframe\">\n",
       "  <thead>\n",
       "    <tr style=\"text-align: right;\">\n",
       "      <th></th>\n",
       "      <th>index</th>\n",
       "      <th>lightness</th>\n",
       "      <th>width</th>\n",
       "      <th>species</th>\n",
       "    </tr>\n",
       "  </thead>\n",
       "  <tbody>\n",
       "    <tr>\n",
       "      <th>0</th>\n",
       "      <td>0</td>\n",
       "      <td>2.834754</td>\n",
       "      <td>21.087143</td>\n",
       "      <td>0</td>\n",
       "    </tr>\n",
       "    <tr>\n",
       "      <th>1</th>\n",
       "      <td>1</td>\n",
       "      <td>3.329180</td>\n",
       "      <td>18.877143</td>\n",
       "      <td>0</td>\n",
       "    </tr>\n",
       "    <tr>\n",
       "      <th>2</th>\n",
       "      <td>2</td>\n",
       "      <td>3.690492</td>\n",
       "      <td>19.824286</td>\n",
       "      <td>0</td>\n",
       "    </tr>\n",
       "    <tr>\n",
       "      <th>3</th>\n",
       "      <td>3</td>\n",
       "      <td>4.812459</td>\n",
       "      <td>17.760000</td>\n",
       "      <td>0</td>\n",
       "    </tr>\n",
       "    <tr>\n",
       "      <th>4</th>\n",
       "      <td>4</td>\n",
       "      <td>4.812459</td>\n",
       "      <td>16.497143</td>\n",
       "      <td>0</td>\n",
       "    </tr>\n",
       "    <tr>\n",
       "      <th>...</th>\n",
       "      <td>...</td>\n",
       "      <td>...</td>\n",
       "      <td>...</td>\n",
       "      <td>...</td>\n",
       "    </tr>\n",
       "    <tr>\n",
       "      <th>126</th>\n",
       "      <td>126</td>\n",
       "      <td>8.976774</td>\n",
       "      <td>18.656940</td>\n",
       "      <td>1</td>\n",
       "    </tr>\n",
       "    <tr>\n",
       "      <th>127</th>\n",
       "      <td>127</td>\n",
       "      <td>5.365806</td>\n",
       "      <td>21.308897</td>\n",
       "      <td>1</td>\n",
       "    </tr>\n",
       "    <tr>\n",
       "      <th>128</th>\n",
       "      <td>128</td>\n",
       "      <td>6.226452</td>\n",
       "      <td>20.203915</td>\n",
       "      <td>1</td>\n",
       "    </tr>\n",
       "    <tr>\n",
       "      <th>129</th>\n",
       "      <td>129</td>\n",
       "      <td>8.789677</td>\n",
       "      <td>16.054093</td>\n",
       "      <td>1</td>\n",
       "    </tr>\n",
       "    <tr>\n",
       "      <th>130</th>\n",
       "      <td>130</td>\n",
       "      <td>9.800000</td>\n",
       "      <td>17.060854</td>\n",
       "      <td>1</td>\n",
       "    </tr>\n",
       "  </tbody>\n",
       "</table>\n",
       "<p>131 rows × 4 columns</p>\n",
       "</div>"
      ],
      "text/plain": [
       "     index  lightness      width  species\n",
       "0        0   2.834754  21.087143        0\n",
       "1        1   3.329180  18.877143        0\n",
       "2        2   3.690492  19.824286        0\n",
       "3        3   4.812459  17.760000        0\n",
       "4        4   4.812459  16.497143        0\n",
       "..     ...        ...        ...      ...\n",
       "126    126   8.976774  18.656940        1\n",
       "127    127   5.365806  21.308897        1\n",
       "128    128   6.226452  20.203915        1\n",
       "129    129   8.789677  16.054093        1\n",
       "130    130   9.800000  17.060854        1\n",
       "\n",
       "[131 rows x 4 columns]"
      ]
     },
     "execution_count": 2,
     "metadata": {},
     "output_type": "execute_result"
    }
   ],
   "source": [
    "data = pd.read_csv('salmon_seabass.csv')\n",
    "data\n"
   ]
  },
  {
   "cell_type": "markdown",
   "metadata": {},
   "source": [
    "Separar entradas somente com as colunas lightness e width e saida com species\n"
   ]
  },
  {
   "cell_type": "code",
   "execution_count": 3,
   "metadata": {},
   "outputs": [],
   "source": [
    "X = data.drop(columns=['species','index']).values\n",
    "y = data['species'].values"
   ]
  },
  {
   "cell_type": "markdown",
   "metadata": {},
   "source": [
    "#### Nomalizacao de dados\n",
    "Etapa de separacao de 70% treino e 30% teste."
   ]
  },
  {
   "cell_type": "code",
   "execution_count": 4,
   "metadata": {},
   "outputs": [],
   "source": [
    "# Dividir os dados em conjunto de treino e teste\n",
    "X_train, X_test, y_train, y_test = train_test_split(X, y, test_size=0.3, random_state=42)\n",
    "\n",
    "# Padronizar os dados\n",
    "scaler = StandardScaler()\n",
    "X_train = scaler.fit_transform(X_train)\n",
    "X_test = scaler.transform(X_test)\n"
   ]
  },
  {
   "cell_type": "markdown",
   "metadata": {},
   "source": [
    "#### Treinamento"
   ]
  },
  {
   "cell_type": "code",
   "execution_count": 5,
   "metadata": {},
   "outputs": [],
   "source": [
    "#treinamento do modelo\n",
    "perceptron = Perceptron(0.001, 5000)\n",
    "perceptron.fit(X_train, y_train)"
   ]
  },
  {
   "cell_type": "markdown",
   "metadata": {},
   "source": [
    "#### Teste e avalicao de metricas como acuracia, precisao, recall, f1-score e matriz de confusao"
   ]
  },
  {
   "cell_type": "code",
   "execution_count": 6,
   "metadata": {},
   "outputs": [],
   "source": [
    "# Fazer o teste do modelo\n",
    "y_pred_test = perceptron.predict(X_test)\n",
    "\n",
    "# Avaliar a performance da Perceptron\n",
    "acc = accuracy_score(y_test, y_pred_test)\n",
    "precision = precision_score(y_test, y_pred_test)\n",
    "recall = recall_score(y_test, y_pred_test)\n",
    "f1 = f1_score(y_test, y_pred_test)\n",
    "\n",
    "conf_matrix = confusion_matrix(y_test, y_pred_test)"
   ]
  },
  {
   "cell_type": "code",
   "execution_count": 7,
   "metadata": {},
   "outputs": [
    {
     "name": "stdout",
     "output_type": "stream",
     "text": [
      "Acurácia: 92.50%\n",
      "Precisão (Precision): 100.00%\n",
      "Recall: 80.00%\n",
      "F1-score: 88.89%\n",
      "Matriz de Confusão:\n",
      "[[25  0]\n",
      " [ 3 12]]\n"
     ]
    }
   ],
   "source": [
    "# Exibir os resultados\n",
    "print(f\"Acurácia: {acc * 100:.2f}%\")\n",
    "print(f\"Precisão (Precision): {precision * 100:.2f}%\")\n",
    "print(f\"Recall: {recall * 100:.2f}%\")\n",
    "print(f\"F1-score: {f1 * 100:.2f}%\")\n",
    "print(f\"Matriz de Confusão:\\n{conf_matrix}\")\n",
    "\n",
    "\n"
   ]
  },
  {
   "cell_type": "code",
   "execution_count": 8,
   "metadata": {},
   "outputs": [
    {
     "data": {
      "image/png": "[encoded data removed]",
      "text/plain": [
       "<Figure size 640x480 with 1 Axes>"
      ]
     },
     "metadata": {},
     "output_type": "display_data"
    }
   ],
   "source": [
    "# EXTRA: Visualizar a superfície de decisão\n",
    "\n",
    "# Reverter a normalização dos dados de teste para obter os valores originais\n",
    "X_test_original = scaler.inverse_transform(X_test)\n",
    "\n",
    "# Função para plotar a superfície de decisão\n",
    "def plot_decision(X, y, model):\n",
    "        # Determina os limites para as dimensões dos dados\n",
    "        x1_min, x1_max = X[:, 0].min() - 0.5, X[:, 0].max() + 0.5  \n",
    "        x2_min, x2_max = X[:, 1].min() - 0.5, X[:, 1].max() + 0.5 \n",
    "        \n",
    "        # Para desenhar a superfície de decisão, cria uma grade de pontos que cobre toda a área de interesse.\n",
    "        xx1, xx2 = np.meshgrid(np.arange(x1_min, x1_max, 0.01),  \n",
    "                                np.arange(x2_min, x2_max, 0.01))  \n",
    "\n",
    "        # Após criar a grade, o modelo Perceptron prevê a classe de cada ponto na grade.\n",
    "        grid = np.c_[xx1.ravel(), xx2.ravel()] \n",
    "\n",
    "        # Escala os dados da grade usando o mesmo scaler utilizado para os dados de treinamento\n",
    "        grid_scaled = scaler.transform(grid) \n",
    "        Z = model.predict(grid_scaled)  \n",
    "        Z = Z.reshape(xx1.shape)  \n",
    "        \n",
    "        # Plota a superfície de decisão como um contorno preenchido\n",
    "        plt.contourf(xx1, xx2, Z, alpha=0.3)\n",
    "        \n",
    "        # Plota os dados de teste, colorindo os pontos de acordo com suas classes\n",
    "        plt.scatter(X[y == 0][:, 0], X[y == 0][:, 1], \n",
    "                        color='blue', edgecolors='k', marker='o', s=100, label='Salmão')  # Pontos da classe Salmão\n",
    "        plt.scatter(X[y == 1][:, 0], X[y == 1][:, 1], \n",
    "                        color='red', edgecolors='k', marker='o', s=100, label='Robalo')  # Pontos da classe Robalo\n",
    "        \n",
    "        plt.legend() \n",
    "        plt.xlim(xx1.min(), xx1.max())\n",
    "        plt.ylim(xx2.min(), xx2.max())\n",
    "        plt.title('Perceptron')\n",
    "        plt.show()\n",
    "\n",
    "# Plotar a superfície de decisão chamando a função plot_decision\n",
    "plot_decision(X_test_original, y_test, perceptron)\n"
   ]
  }
 ],
 "metadata": {
  "kernelspec": {
   "display_name": "Python 3",
   "language": "python",
   "name": "python3"
  },
  "language_info": {
   "codemirror_mode": {
    "name": "ipython",
    "version": 3
   },
   "file_extension": ".py",
   "mimetype": "text/x-python",
   "name": "python",
   "nbconvert_exporter": "python",
   "pygments_lexer": "ipython3",
   "version": "3.11.9"
  }
 },
 "nbformat": 4,
 "nbformat_minor": 2
}
